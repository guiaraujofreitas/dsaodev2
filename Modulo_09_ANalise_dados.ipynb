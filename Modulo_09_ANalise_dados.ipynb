{
 "cells": [
  {
   "cell_type": "markdown",
   "id": "0350fee9",
   "metadata": {},
   "source": [
    "# 0.0. IMPORTS"
   ]
  },
  {
   "cell_type": "code",
   "execution_count": 1,
   "id": "35997bdd",
   "metadata": {},
   "outputs": [],
   "source": [
    "import pandas as pd\n",
    "import numpy as np\n",
    "import sqlalchemy\n",
    "\n",
    "from sqlalchemy import create_engine"
   ]
  },
  {
   "cell_type": "markdown",
   "id": "dd11f41e",
   "metadata": {},
   "source": [
    "# 0.1 DATA COLLECTION"
   ]
  },
  {
   "cell_type": "code",
   "execution_count": 2,
   "id": "d2fba918",
   "metadata": {},
   "outputs": [],
   "source": [
    "path= '/home/guilherme/Documentos/repos/ds_ao_dev/projeto_webscrapy/'\n",
    "\n",
    "data_base= 'database_hm.sqlite'\n",
    "\n",
    "conn= create_engine('sqlite:///' + path + data_base,echo= False)"
   ]
  },
  {
   "cell_type": "code",
   "execution_count": 24,
   "id": "9af408c2",
   "metadata": {},
   "outputs": [
    {
     "data": {
      "text/plain": [
       "'database_hm.sqlite'"
      ]
     },
     "execution_count": 24,
     "metadata": {},
     "output_type": "execute_result"
    }
   ],
   "source": [
    "# Unix/Mac - 4 initial slashes in total\n",
    "#engine = create_engine('sqlite:////absolute/path/to/foo.d"
   ]
  },
  {
   "cell_type": "code",
   "execution_count": 5,
   "id": "0533541d",
   "metadata": {},
   "outputs": [],
   "source": [
    "query = \"\"\" \n",
    "        SELECT * FROM vitrine\n",
    "\n",
    "\"\"\"\n",
    "df_raw = pd.read_sql_query(query,con=conn)"
   ]
  },
  {
   "cell_type": "markdown",
   "id": "e11d41af",
   "metadata": {},
   "source": [
    "# 1.0 Descrição dos dados"
   ]
  },
  {
   "cell_type": "code",
   "execution_count": 6,
   "id": "1a3f4278",
   "metadata": {},
   "outputs": [],
   "source": [
    "df01= df_raw.copy(deep=True)"
   ]
  },
  {
   "cell_type": "markdown",
   "id": "5a523c53",
   "metadata": {},
   "source": [
    "# 1.1 Dimensão dos Dados"
   ]
  },
  {
   "cell_type": "code",
   "execution_count": 7,
   "id": "a3306e4a",
   "metadata": {},
   "outputs": [
    {
     "name": "stdout",
     "output_type": "stream",
     "text": [
      "Number of Rows:100\n",
      "Number of Cols:13\n"
     ]
    }
   ],
   "source": [
    "print('Number of Rows:{}'.format( df01.shape[0]))\n",
    "print('Number of Cols:{}'.format( df01.shape[1]))"
   ]
  },
  {
   "cell_type": "markdown",
   "id": "5dfd270c",
   "metadata": {},
   "source": [
    "# 1.2 Tipos de Dados "
   ]
  },
  {
   "cell_type": "code",
   "execution_count": 10,
   "id": "250767ff",
   "metadata": {},
   "outputs": [
    {
     "data": {
      "text/plain": [
       "product_id                  object\n",
       "product_name                object\n",
       "product_price              float64\n",
       "color_name                  object\n",
       "size                        object\n",
       "fit                         object\n",
       "stlye_id                    object\n",
       "color_id                    object\n",
       "scrapy_datetime     datetime64[ns]\n",
       "cotton                     float64\n",
       "polyester                  float64\n",
       "elastomultiester           float64\n",
       "spandex                    float64\n",
       "dtype: object"
      ]
     },
     "execution_count": 10,
     "metadata": {},
     "output_type": "execute_result"
    }
   ],
   "source": [
    "df01.dtypes"
   ]
  },
  {
   "cell_type": "code",
   "execution_count": 9,
   "id": "1bfd921a",
   "metadata": {},
   "outputs": [],
   "source": [
    "#convert object to datetime\n",
    "df01['scrapy_datetime']= df01['scrapy_datetime'].astype('datetime64[ns]')\n",
    "#df01['scrapy_datetime'] = pd.to_datetime(df01['scrapy_datetime'],format='%Y-%m-%d %H:%M%S' ).astype('datetime64[ns]')"
   ]
  },
  {
   "cell_type": "markdown",
   "id": "92f2a97c",
   "metadata": {},
   "source": [
    "# 1.4 SUBDSTITUIÇÃO DOS DADOS FALTANTES"
   ]
  },
  {
   "cell_type": "code",
   "execution_count": 11,
   "id": "c1c48337",
   "metadata": {},
   "outputs": [
    {
     "data": {
      "text/plain": [
       "product_id           0\n",
       "product_name         0\n",
       "product_price        0\n",
       "color_name           0\n",
       "size                70\n",
       "fit                  0\n",
       "stlye_id             0\n",
       "color_id             0\n",
       "scrapy_datetime      0\n",
       "cotton               0\n",
       "polyester            0\n",
       "elastomultiester     0\n",
       "spandex              0\n",
       "dtype: int64"
      ]
     },
     "execution_count": 11,
     "metadata": {},
     "output_type": "execute_result"
    }
   ],
   "source": [
    "#SOMANDO OS DADOS FALTANTES POR COLUNA \n",
    "df01.isna().sum()"
   ]
  },
  {
   "cell_type": "code",
   "execution_count": 12,
   "id": "7f295ec0",
   "metadata": {},
   "outputs": [
    {
     "data": {
      "text/plain": [
       "product_id          0.0\n",
       "product_name        0.0\n",
       "product_price       0.0\n",
       "color_name          0.0\n",
       "size                0.7\n",
       "fit                 0.0\n",
       "stlye_id            0.0\n",
       "color_id            0.0\n",
       "scrapy_datetime     0.0\n",
       "cotton              0.0\n",
       "polyester           0.0\n",
       "elastomultiester    0.0\n",
       "spandex             0.0\n",
       "dtype: float64"
      ]
     },
     "execution_count": 12,
     "metadata": {},
     "output_type": "execute_result"
    }
   ],
   "source": [
    "# REPRESENTAÇÃO EM % DOS DADOS FALTANTES EM RELAÇÃO AO MEU TOTAL DE LINHAS\n",
    "df01.isna().sum() / df01.shape[0]"
   ]
  },
  {
   "cell_type": "code",
   "execution_count": 13,
   "id": "452cb7f4",
   "metadata": {},
   "outputs": [
    {
     "data": {
      "text/plain": [
       "(100, 12)"
      ]
     },
     "execution_count": 13,
     "metadata": {},
     "output_type": "execute_result"
    }
   ],
   "source": [
    "#REMOVENDO A COLUNA COM MAIOR PORCENTAGEM DE % E DROPANDO OS \"NaS\" DE TODAS AS COLUNAS DO DATASET\n",
    "df01 = df01.drop(columns= ['size']).dropna()\n",
    "\n",
    "df01.shape"
   ]
  },
  {
   "cell_type": "markdown",
   "id": "9882cb37",
   "metadata": {},
   "source": [
    "# 1.5 Descrição dos dados"
   ]
  },
  {
   "cell_type": "code",
   "execution_count": 14,
   "id": "72923067",
   "metadata": {},
   "outputs": [],
   "source": [
    "num_attributes = df01.select_dtypes(include=['int64','float64'])\n",
    "cat_attributes = df01.select_dtypes(exclude=['int64','float64','datetime64[ns]'])"
   ]
  },
  {
   "cell_type": "markdown",
   "id": "6ad0153f",
   "metadata": {},
   "source": [
    "# 1.5.1 numeric data"
   ]
  },
  {
   "cell_type": "code",
   "execution_count": 48,
   "id": "39110053",
   "metadata": {},
   "outputs": [],
   "source": [
    "# têndecia central  - median and mean (centralização da posição dos dados e outra da no meio da posição )\n",
    "\n",
    "t1 = pd.DataFrame(num_attributes.apply(lambda x: x.mean())).T\n",
    "\n",
    "t2 = pd.DataFrame(num_attributes.apply(lambda x: x.median())).T\n",
    "\n",
    "#disperson = std - min - max - range - skew - kurtosis\n",
    "\n",
    "#std\n",
    "d1 = pd.DataFrame( num_attributes.apply( ( np.std ) ) ).T\n",
    "\n",
    "#min\n",
    "d2 = pd.DataFrame( num_attributes.apply( ( np.min ) ) ).T\n",
    "\n",
    "#max\n",
    "d3 = pd.DataFrame(num_attributes.apply ( ( np.max ) ) ).T\n",
    "\n",
    "#range\n",
    "d4 = pd.DataFrame(num_attributes.apply(lambda x: x.max() - x.min() ) ).T\n",
    "\n",
    "#skew\n",
    "d5 = pd.DataFrame(num_attributes.apply(lambda x: x.skew() ) ).T\n",
    "\n",
    "#kurtosis\n",
    "d6 = pd.DataFrame(num_attributes.apply(lambda x: x.kurtosis() ) ).T\n",
    "\n",
    "m1 = pd.concat( [ d2,d3,d4,t1,t2,d1,d5,d6 ] ).T.reset_index()\n",
    "m1.columns= [ 'attributes','min','max','range','mean','median','std','skew','kurtosis']"
   ]
  },
  {
   "cell_type": "code",
   "execution_count": 49,
   "id": "ddbc33c4",
   "metadata": {},
   "outputs": [
    {
     "data": {
      "text/html": [
       "<div>\n",
       "<style scoped>\n",
       "    .dataframe tbody tr th:only-of-type {\n",
       "        vertical-align: middle;\n",
       "    }\n",
       "\n",
       "    .dataframe tbody tr th {\n",
       "        vertical-align: top;\n",
       "    }\n",
       "\n",
       "    .dataframe thead th {\n",
       "        text-align: right;\n",
       "    }\n",
       "</style>\n",
       "<table border=\"1\" class=\"dataframe\">\n",
       "  <thead>\n",
       "    <tr style=\"text-align: right;\">\n",
       "      <th></th>\n",
       "      <th>attributes</th>\n",
       "      <th>min</th>\n",
       "      <th>max</th>\n",
       "      <th>range</th>\n",
       "      <th>mean</th>\n",
       "      <th>median</th>\n",
       "      <th>std</th>\n",
       "      <th>skew</th>\n",
       "      <th>kurtosis</th>\n",
       "    </tr>\n",
       "  </thead>\n",
       "  <tbody>\n",
       "    <tr>\n",
       "      <th>0</th>\n",
       "      <td>product_price</td>\n",
       "      <td>7.99</td>\n",
       "      <td>49.99</td>\n",
       "      <td>42.00</td>\n",
       "      <td>27.4100</td>\n",
       "      <td>26.99</td>\n",
       "      <td>9.097450</td>\n",
       "      <td>0.671583</td>\n",
       "      <td>0.163173</td>\n",
       "    </tr>\n",
       "    <tr>\n",
       "      <th>1</th>\n",
       "      <td>cotton</td>\n",
       "      <td>0.72</td>\n",
       "      <td>1.00</td>\n",
       "      <td>0.28</td>\n",
       "      <td>0.9799</td>\n",
       "      <td>0.99</td>\n",
       "      <td>0.038510</td>\n",
       "      <td>-3.829128</td>\n",
       "      <td>20.362932</td>\n",
       "    </tr>\n",
       "    <tr>\n",
       "      <th>2</th>\n",
       "      <td>polyester</td>\n",
       "      <td>0.00</td>\n",
       "      <td>1.00</td>\n",
       "      <td>1.00</td>\n",
       "      <td>0.3658</td>\n",
       "      <td>0.64</td>\n",
       "      <td>0.343459</td>\n",
       "      <td>0.063297</td>\n",
       "      <td>-1.716237</td>\n",
       "    </tr>\n",
       "    <tr>\n",
       "      <th>3</th>\n",
       "      <td>elastomultiester</td>\n",
       "      <td>0.00</td>\n",
       "      <td>0.09</td>\n",
       "      <td>0.09</td>\n",
       "      <td>0.0043</td>\n",
       "      <td>0.00</td>\n",
       "      <td>0.018775</td>\n",
       "      <td>4.215997</td>\n",
       "      <td>16.167172</td>\n",
       "    </tr>\n",
       "    <tr>\n",
       "      <th>4</th>\n",
       "      <td>spandex</td>\n",
       "      <td>0.00</td>\n",
       "      <td>0.02</td>\n",
       "      <td>0.02</td>\n",
       "      <td>0.0088</td>\n",
       "      <td>0.01</td>\n",
       "      <td>0.007652</td>\n",
       "      <td>0.209671</td>\n",
       "      <td>-1.272293</td>\n",
       "    </tr>\n",
       "  </tbody>\n",
       "</table>\n",
       "</div>"
      ],
      "text/plain": [
       "         attributes   min    max  range     mean  median       std      skew  \\\n",
       "0     product_price  7.99  49.99  42.00  27.4100   26.99  9.097450  0.671583   \n",
       "1            cotton  0.72   1.00   0.28   0.9799    0.99  0.038510 -3.829128   \n",
       "2         polyester  0.00   1.00   1.00   0.3658    0.64  0.343459  0.063297   \n",
       "3  elastomultiester  0.00   0.09   0.09   0.0043    0.00  0.018775  4.215997   \n",
       "4           spandex  0.00   0.02   0.02   0.0088    0.01  0.007652  0.209671   \n",
       "\n",
       "    kurtosis  \n",
       "0   0.163173  \n",
       "1  20.362932  \n",
       "2  -1.716237  \n",
       "3  16.167172  \n",
       "4  -1.272293  "
      ]
     },
     "execution_count": 49,
     "metadata": {},
     "output_type": "execute_result"
    }
   ],
   "source": [
    "m1"
   ]
  }
 ],
 "metadata": {
  "kernelspec": {
   "display_name": "Python 3 (ipykernel)",
   "language": "python",
   "name": "python3"
  },
  "language_info": {
   "codemirror_mode": {
    "name": "ipython",
    "version": 3
   },
   "file_extension": ".py",
   "mimetype": "text/x-python",
   "name": "python",
   "nbconvert_exporter": "python",
   "pygments_lexer": "ipython3",
   "version": "3.8.10"
  }
 },
 "nbformat": 4,
 "nbformat_minor": 5
}
