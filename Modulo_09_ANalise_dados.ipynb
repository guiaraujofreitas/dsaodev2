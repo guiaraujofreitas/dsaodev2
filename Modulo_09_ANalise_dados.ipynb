{
 "cells": [
  {
   "cell_type": "markdown",
   "id": "0350fee9",
   "metadata": {},
   "source": [
    "# 0.0. IMPORTS"
   ]
  },
  {
   "cell_type": "code",
   "execution_count": 83,
   "id": "35997bdd",
   "metadata": {},
   "outputs": [],
   "source": [
    "import pandas as pd\n",
    "import numpy as np\n",
    "import sqlalchemy\n",
    "\n",
    "from sqlalchemy import create_engine"
   ]
  },
  {
   "cell_type": "markdown",
   "id": "dd11f41e",
   "metadata": {},
   "source": [
    "# 0.1 DATA COLLECTION"
   ]
  },
  {
   "cell_type": "code",
   "execution_count": 29,
   "id": "d2fba918",
   "metadata": {},
   "outputs": [],
   "source": [
    "path= '/home/guilherme/Documentos/repos/ds_ao_dev/projeto_webscrapy/'\n",
    "\n",
    "data_base= 'database_hm.sqlite'\n",
    "\n",
    "conn= create_engine('sqlite:///' + path + data_base,echo= False)"
   ]
  },
  {
   "cell_type": "code",
   "execution_count": 24,
   "id": "9af408c2",
   "metadata": {},
   "outputs": [
    {
     "data": {
      "text/plain": [
       "'database_hm.sqlite'"
      ]
     },
     "execution_count": 24,
     "metadata": {},
     "output_type": "execute_result"
    }
   ],
   "source": [
    "# Unix/Mac - 4 initial slashes in total\n",
    "engine = create_engine('sqlite:////absolute/path/to/foo.d"
   ]
  },
  {
   "cell_type": "code",
   "execution_count": 32,
   "id": "0533541d",
   "metadata": {},
   "outputs": [],
   "source": [
    "query = \"\"\" \n",
    "        SELECT * FROM vitrine\n",
    "\n",
    "\"\"\"\n",
    "df_raw = pd.read_sql_query(query,con=conn)"
   ]
  },
  {
   "cell_type": "markdown",
   "id": "e11d41af",
   "metadata": {},
   "source": [
    "# 1.0 Descrição dos dados"
   ]
  },
  {
   "cell_type": "code",
   "execution_count": 34,
   "id": "1a3f4278",
   "metadata": {},
   "outputs": [],
   "source": [
    "df01= df_raw.copy(deep=True)"
   ]
  },
  {
   "cell_type": "markdown",
   "id": "5a523c53",
   "metadata": {},
   "source": [
    "# 1.1 Dimensão dos Dados"
   ]
  },
  {
   "cell_type": "code",
   "execution_count": 41,
   "id": "a3306e4a",
   "metadata": {},
   "outputs": [
    {
     "name": "stdout",
     "output_type": "stream",
     "text": [
      "Number of Rows:100\n",
      "Number of Cols:13\n"
     ]
    }
   ],
   "source": [
    "print('Number of Rows:{}'.format( df01.shape[0]))\n",
    "print('Number of Cols:{}'.format( df01.shape[1]))"
   ]
  },
  {
   "cell_type": "markdown",
   "id": "5dfd270c",
   "metadata": {},
   "source": [
    "# 1.2 Tipos de Dados "
   ]
  },
  {
   "cell_type": "code",
   "execution_count": 59,
   "id": "250767ff",
   "metadata": {},
   "outputs": [
    {
     "data": {
      "text/plain": [
       "product_id                  object\n",
       "product_name                object\n",
       "product_price              float64\n",
       "color_name                  object\n",
       "size                        object\n",
       "fit                         object\n",
       "stlye_id                    object\n",
       "color_id                    object\n",
       "scrapy_datetime     datetime64[ns]\n",
       "cotton                     float64\n",
       "polyester                  float64\n",
       "elastomultiester           float64\n",
       "spandex                    float64\n",
       "dtype: object"
      ]
     },
     "execution_count": 59,
     "metadata": {},
     "output_type": "execute_result"
    }
   ],
   "source": [
    "df01.dtypes"
   ]
  },
  {
   "cell_type": "code",
   "execution_count": 58,
   "id": "1bfd921a",
   "metadata": {},
   "outputs": [
    {
     "name": "stderr",
     "output_type": "stream",
     "text": [
      "/tmp/ipykernel_3074/3593185231.py:1: FutureWarning: Using .astype to convert from timezone-aware dtype to timezone-naive dtype is deprecated and will raise in a future version.  Use obj.tz_localize(None) or obj.tz_convert('UTC').tz_localize(None) instead\n",
      "  df01['scrapy_datetime'] = pd.to_datetime(df01['scrapy_datetime'],format='%Y-%m-%d %H:%M%S' ).astype('datetime64[ns]')\n"
     ]
    }
   ],
   "source": [
    "#convert object to datetime\n",
    "df01['scrapy_datetime'] = pd.to_datetime(df01['scrapy_datetime'],format='%Y-%m-%d %H:%M%S' ).astype('datetime64[ns]')"
   ]
  },
  {
   "cell_type": "markdown",
   "id": "92f2a97c",
   "metadata": {},
   "source": [
    "# 1.4 SUBDSTITUIÇÃO DOS DADOS FALTANTES"
   ]
  },
  {
   "cell_type": "code",
   "execution_count": 61,
   "id": "c1c48337",
   "metadata": {},
   "outputs": [
    {
     "data": {
      "text/plain": [
       "product_id           0\n",
       "product_name         0\n",
       "product_price        0\n",
       "color_name           0\n",
       "size                70\n",
       "fit                  0\n",
       "stlye_id             0\n",
       "color_id             0\n",
       "scrapy_datetime      0\n",
       "cotton               0\n",
       "polyester            0\n",
       "elastomultiester     0\n",
       "spandex              0\n",
       "dtype: int64"
      ]
     },
     "execution_count": 61,
     "metadata": {},
     "output_type": "execute_result"
    }
   ],
   "source": [
    "#SOMANDO OS DADOS FALTANTES POR COLUNA \n",
    "df01.isna().sum()"
   ]
  },
  {
   "cell_type": "code",
   "execution_count": 65,
   "id": "7f295ec0",
   "metadata": {},
   "outputs": [
    {
     "data": {
      "text/plain": [
       "product_id          0.0\n",
       "product_name        0.0\n",
       "product_price       0.0\n",
       "color_name          0.0\n",
       "size                0.7\n",
       "fit                 0.0\n",
       "stlye_id            0.0\n",
       "color_id            0.0\n",
       "scrapy_datetime     0.0\n",
       "cotton              0.0\n",
       "polyester           0.0\n",
       "elastomultiester    0.0\n",
       "spandex             0.0\n",
       "dtype: float64"
      ]
     },
     "execution_count": 65,
     "metadata": {},
     "output_type": "execute_result"
    }
   ],
   "source": [
    "# REPRESENTAÇÃO EM % DOS DADOS FALTANTES EM RELAÇÃO AO MEU TOTAL DE LINHAS\n",
    "df01.isna().sum() / df01.shape[0]"
   ]
  },
  {
   "cell_type": "code",
   "execution_count": 76,
   "id": "452cb7f4",
   "metadata": {},
   "outputs": [
    {
     "data": {
      "text/plain": [
       "(100, 12)"
      ]
     },
     "execution_count": 76,
     "metadata": {},
     "output_type": "execute_result"
    }
   ],
   "source": [
    "#REMOVENDO A COLUNA COM MAIOR PORCENTAGEM DE % E DROPANDO OS NA DE TODAS NA DO DATASET\n",
    "df01 = df01.drop(columns= ['size']).dropna()\n",
    "\n",
    "df01.shape"
   ]
  },
  {
   "cell_type": "markdown",
   "id": "9882cb37",
   "metadata": {},
   "source": [
    "# 1.5 Descrição dos dados"
   ]
  },
  {
   "cell_type": "code",
   "execution_count": 80,
   "id": "72923067",
   "metadata": {},
   "outputs": [],
   "source": [
    "num_attributes = df01.select_dtypes(include=['int64','float64'])\n",
    "cat_attributes = df01.select_dtypes(exclude=['int64','float64','datetime64[ns]'])"
   ]
  },
  {
   "cell_type": "markdown",
   "id": "6ad0153f",
   "metadata": {},
   "source": [
    "# 1.5.1 numeric data"
   ]
  },
  {
   "cell_type": "code",
   "execution_count": 92,
   "id": "39110053",
   "metadata": {},
   "outputs": [
    {
     "data": {
      "text/html": [
       "<div>\n",
       "<style scoped>\n",
       "    .dataframe tbody tr th:only-of-type {\n",
       "        vertical-align: middle;\n",
       "    }\n",
       "\n",
       "    .dataframe tbody tr th {\n",
       "        vertical-align: top;\n",
       "    }\n",
       "\n",
       "    .dataframe thead th {\n",
       "        text-align: right;\n",
       "    }\n",
       "</style>\n",
       "<table border=\"1\" class=\"dataframe\">\n",
       "  <thead>\n",
       "    <tr style=\"text-align: right;\">\n",
       "      <th></th>\n",
       "      <th>product_price</th>\n",
       "      <th>cotton</th>\n",
       "      <th>polyester</th>\n",
       "      <th>elastomultiester</th>\n",
       "      <th>spandex</th>\n",
       "    </tr>\n",
       "  </thead>\n",
       "  <tbody>\n",
       "    <tr>\n",
       "      <th>0</th>\n",
       "      <td>9.09745</td>\n",
       "      <td>0.03851</td>\n",
       "      <td>0.343459</td>\n",
       "      <td>0.018775</td>\n",
       "      <td>0.007652</td>\n",
       "    </tr>\n",
       "  </tbody>\n",
       "</table>\n",
       "</div>"
      ],
      "text/plain": [
       "   product_price   cotton  polyester  elastomultiester   spandex\n",
       "0        9.09745  0.03851   0.343459          0.018775  0.007652"
      ]
     },
     "execution_count": 92,
     "metadata": {},
     "output_type": "execute_result"
    }
   ],
   "source": [
    "# têndecia central  - median and mean (centralização da posição dos dados e outra da no meio da posição )\n",
    "\n",
    "t1 = pd.DataFrame(num_attributes.apply(lambda x: x.mean())).T\n",
    "\n",
    "t2 = pd.DataFrame(num_attributes.apply(lambda x: x.median())).T\n",
    "\n",
    "#disperson = std - min - max - range - skew - kurtose\n",
    "\n",
    "d1 = pd.DataFrame(num_attributes.apply((np.std) )).T\n",
    "\n",
    "d1"
   ]
  },
  {
   "cell_type": "code",
   "execution_count": null,
   "id": "ddbc33c4",
   "metadata": {},
   "outputs": [],
   "source": []
  }
 ],
 "metadata": {
  "kernelspec": {
   "display_name": "Python 3 (ipykernel)",
   "language": "python",
   "name": "python3"
  },
  "language_info": {
   "codemirror_mode": {
    "name": "ipython",
    "version": 3
   },
   "file_extension": ".py",
   "mimetype": "text/x-python",
   "name": "python",
   "nbconvert_exporter": "python",
   "pygments_lexer": "ipython3",
   "version": "3.8.10"
  }
 },
 "nbformat": 4,
 "nbformat_minor": 5
}
