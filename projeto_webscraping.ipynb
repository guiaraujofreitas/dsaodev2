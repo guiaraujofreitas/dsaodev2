{
 "cells": [
  {
   "cell_type": "code",
   "execution_count": 1,
   "id": "be1fe97d",
   "metadata": {},
   "outputs": [],
   "source": [
    "import requests\n",
    "import pandas as pd\n",
    "import numpy as np\n",
    "from bs4 import BeautifulSoup\n",
    "from datetime import datetime"
   ]
  },
  {
   "cell_type": "code",
   "execution_count": null,
   "id": "eb261856",
   "metadata": {},
   "outputs": [],
   "source": [
    "#id #product_name #product_type # product_color #composition #price\n"
   ]
  },
  {
   "cell_type": "code",
   "execution_count": 2,
   "id": "ec5f327a",
   "metadata": {},
   "outputs": [],
   "source": [
    "url= 'https://www2.hm.com/en_us/men/products/jeans.html'\n",
    "\n",
    "headers = {'User-Agent':'Mozilla/5.0 (Macintosh; Intel Mac OS X 10_11_5) AppleWebKit/537.36 (KHTML, like Gecko) Chrome/50.0.2661.102 Safari/537.36 OPR/37.0.2178.54'}\n",
    "\n",
    "page = requests.get( url, headers=headers )"
   ]
  },
  {
   "cell_type": "code",
   "execution_count": 3,
   "id": "8959cdd8",
   "metadata": {},
   "outputs": [],
   "source": [
    "soup = BeautifulSoup(page.text, 'html.parser')"
   ]
  },
  {
   "cell_type": "code",
   "execution_count": 6,
   "id": "e2e47714",
   "metadata": {},
   "outputs": [],
   "source": [
    "products = soup.find( 'ul', class_='products-listing small' )\n"
   ]
  },
  {
   "cell_type": "code",
   "execution_count": 8,
   "id": "c2854513",
   "metadata": {},
   "outputs": [],
   "source": [
    "products_list= products.find_all ('article',class_=\"hm-product-item\")\n"
   ]
  },
  {
   "cell_type": "code",
   "execution_count": 8,
   "id": "b4c1dd0c",
   "metadata": {},
   "outputs": [
    {
     "data": {
      "text/plain": [
       "'1024256001'"
      ]
     },
     "execution_count": 8,
     "metadata": {},
     "output_type": "execute_result"
    }
   ],
   "source": [
    "products_list[0].get('data-articlecode')"
   ]
  },
  {
   "cell_type": "code",
   "execution_count": 9,
   "id": "90a0b60c",
   "metadata": {},
   "outputs": [],
   "source": [
    "#product id\n",
    "\n",
    "products_id = [p.get('data-articlecode') for p in products_list]"
   ]
  },
  {
   "cell_type": "code",
   "execution_count": 43,
   "id": "8a677fdd",
   "metadata": {},
   "outputs": [],
   "source": [
    "#product category\n",
    "\n",
    "products_category= [p.get('data-category') for p in products_list]"
   ]
  },
  {
   "cell_type": "code",
   "execution_count": 12,
   "id": "8aec1773",
   "metadata": {},
   "outputs": [],
   "source": [
    "#product name \n",
    "\n",
    "#extraction all the name \n",
    "products_list_2=  products.find_all('a', class_='link')\n",
    "\n",
    "products_name =[p.get_text('link') for p in products_list_2]"
   ]
  },
  {
   "cell_type": "code",
   "execution_count": 15,
   "id": "46f41955",
   "metadata": {},
   "outputs": [],
   "source": [
    "#product price\n",
    "\n",
    "#extraction informations of price\n",
    "products_list_3 = products.find_all('span', class_='price regular')\n",
    "\n",
    "#find all the price in page\n",
    "products_price= [p.get_text('price_regular').replace('$ ','') for p in products_list_3]"
   ]
  },
  {
   "cell_type": "code",
   "execution_count": 41,
   "id": "6ef408b0",
   "metadata": {},
   "outputs": [],
   "source": [
    "#product color"
   ]
  },
  {
   "cell_type": "code",
   "execution_count": 42,
   "id": "1b7c62b7",
   "metadata": {},
   "outputs": [],
   "source": [
    "#product composition"
   ]
  },
  {
   "cell_type": "code",
   "execution_count": 68,
   "id": "51731d9c",
   "metadata": {},
   "outputs": [],
   "source": [
    "data = pd.DataFrame([products_id,products_category,products_name,products_price]).T\n",
    "\n",
    "data.columns = ['products_id','products_category','products_name','products_price']\n",
    "\n",
    "data['scrapy_datetime'] = datetime.now().strftime('%Y-%m-%d-%H-%M:%S')"
   ]
  },
  {
   "cell_type": "code",
   "execution_count": 70,
   "id": "6aca6051",
   "metadata": {},
   "outputs": [
    {
     "data": {
      "text/html": [
       "<div>\n",
       "<style scoped>\n",
       "    .dataframe tbody tr th:only-of-type {\n",
       "        vertical-align: middle;\n",
       "    }\n",
       "\n",
       "    .dataframe tbody tr th {\n",
       "        vertical-align: top;\n",
       "    }\n",
       "\n",
       "    .dataframe thead th {\n",
       "        text-align: right;\n",
       "    }\n",
       "</style>\n",
       "<table border=\"1\" class=\"dataframe\">\n",
       "  <thead>\n",
       "    <tr style=\"text-align: right;\">\n",
       "      <th></th>\n",
       "      <th>products_id</th>\n",
       "      <th>products_category</th>\n",
       "      <th>products_name</th>\n",
       "      <th>products_price</th>\n",
       "      <th>scrapy_datetime</th>\n",
       "    </tr>\n",
       "  </thead>\n",
       "  <tbody>\n",
       "    <tr>\n",
       "      <th>0</th>\n",
       "      <td>1024256001</td>\n",
       "      <td>men_jeans_slim</td>\n",
       "      <td>Slim Jeans</td>\n",
       "      <td>19.99</td>\n",
       "      <td>2022-03-20-16-42:26</td>\n",
       "    </tr>\n",
       "    <tr>\n",
       "      <th>1</th>\n",
       "      <td>0690449043</td>\n",
       "      <td>men_jeans_ripped</td>\n",
       "      <td>Skinny Jeans</td>\n",
       "      <td>39.99</td>\n",
       "      <td>2022-03-20-16-42:26</td>\n",
       "    </tr>\n",
       "    <tr>\n",
       "      <th>2</th>\n",
       "      <td>0690449022</td>\n",
       "      <td>men_jeans_ripped</td>\n",
       "      <td>Skinny Jeans</td>\n",
       "      <td>39.99</td>\n",
       "      <td>2022-03-20-16-42:26</td>\n",
       "    </tr>\n",
       "    <tr>\n",
       "      <th>3</th>\n",
       "      <td>0985159001</td>\n",
       "      <td>men_jeans_skinny</td>\n",
       "      <td>Skinny Jeans</td>\n",
       "      <td>19.99</td>\n",
       "      <td>2022-03-20-16-42:26</td>\n",
       "    </tr>\n",
       "    <tr>\n",
       "      <th>4</th>\n",
       "      <td>1024256002</td>\n",
       "      <td>men_jeans_slim</td>\n",
       "      <td>Slim Jeans</td>\n",
       "      <td>19.99</td>\n",
       "      <td>2022-03-20-16-42:26</td>\n",
       "    </tr>\n",
       "  </tbody>\n",
       "</table>\n",
       "</div>"
      ],
      "text/plain": [
       "  products_id products_category products_name products_price  \\\n",
       "0  1024256001    men_jeans_slim    Slim Jeans          19.99   \n",
       "1  0690449043  men_jeans_ripped  Skinny Jeans          39.99   \n",
       "2  0690449022  men_jeans_ripped  Skinny Jeans          39.99   \n",
       "3  0985159001  men_jeans_skinny  Skinny Jeans          19.99   \n",
       "4  1024256002    men_jeans_slim    Slim Jeans          19.99   \n",
       "\n",
       "       scrapy_datetime  \n",
       "0  2022-03-20-16-42:26  \n",
       "1  2022-03-20-16-42:26  \n",
       "2  2022-03-20-16-42:26  \n",
       "3  2022-03-20-16-42:26  \n",
       "4  2022-03-20-16-42:26  "
      ]
     },
     "execution_count": 70,
     "metadata": {},
     "output_type": "execute_result"
    }
   ],
   "source": [
    "data.head()"
   ]
  }
 ],
 "metadata": {
  "kernelspec": {
   "display_name": "Python 3 (ipykernel)",
   "language": "python",
   "name": "python3"
  },
  "language_info": {
   "codemirror_mode": {
    "name": "ipython",
    "version": 3
   },
   "file_extension": ".py",
   "mimetype": "text/x-python",
   "name": "python",
   "nbconvert_exporter": "python",
   "pygments_lexer": "ipython3",
   "version": "3.8.10"
  }
 },
 "nbformat": 4,
 "nbformat_minor": 5
}
