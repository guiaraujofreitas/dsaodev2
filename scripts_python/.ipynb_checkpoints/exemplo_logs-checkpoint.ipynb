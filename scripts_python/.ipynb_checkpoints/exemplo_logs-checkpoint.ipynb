{
 "cells": [
  {
   "cell_type": "code",
   "execution_count": 1,
   "id": "efbc7900",
   "metadata": {},
   "outputs": [],
   "source": [
    "import os\n",
    "import logging\n",
    " \n"
   ]
  },
  {
   "cell_type": "code",
   "execution_count": 5,
   "id": "ff1a7d08",
   "metadata": {},
   "outputs": [],
   "source": [
    "#codigo para rodar os aviso do log no notebook\n",
    "#logger = logging.getLogger()\n",
    "#logger.setLevel(logging.DEBUG)\n",
    "#logging.debug(\"test\")"
   ]
  },
  {
   "cell_type": "code",
   "execution_count": 2,
   "id": "7bd88b78",
   "metadata": {},
   "outputs": [],
   "source": [
    "#varaivel de escrita do log\n",
    "teste_log = logging.basicConfig(filename='Logs/webscrapy_teste.txt',\n",
    "                                format= '%(asctime)s - %(levelname)s - %(name)s - %(message)s', \n",
    "                                datefmt = '%Y-%m-%d %H:%M:%S',\n",
    "                                level=logging.DEBUG)\n"
   ]
  },
  {
   "cell_type": "code",
   "execution_count": 3,
   "id": "4c12fa22",
   "metadata": {},
   "outputs": [],
   "source": [
    "if not os.path.exists('Logs'):\n",
    "    os.makedirs('Logs')\n",
    "    \n",
    "    teste_log\n",
    "else:\n",
    "    teste_log\n",
    "logger = logging.getLogger('Gui')"
   ]
  },
  {
   "cell_type": "code",
   "execution_count": 2,
   "id": "e97159d8",
   "metadata": {},
   "outputs": [],
   "source": [
    "#sem a pasta criada\n",
    "#if not os.path.exists('Logs'):\n",
    "    #os.makedirs('Logs')\n",
    "    \n",
    "    \n",
    "    #logging.basicConfig(filename='Logs/webscrapy_teste.txt',\n",
    "                               # format= '%(asctime)s - %(levelname)s - %(name)s - %(message)s', \n",
    "                             #   datefmt = '%Y-%m-%d %H:%M:%S',\n",
    "                                #level=logging.DEBUG)\n",
    "#else:\n",
    "    \n",
    "  #  logging.basicConfig(filename='Logs/webscrapy_teste.txt',\n",
    "                                #format= '%(asctime)s - %(levelname)s - %(name)s - %(message)s', \n",
    "                                #datefmt = '%Y-%m-%d %H:%M:%S',\n",
    "                                #level=logging.DEBUG)\n"
   ]
  },
  {
   "cell_type": "code",
   "execution_count": 2,
   "id": "148b956a",
   "metadata": {},
   "outputs": [],
   "source": [
    "#com pasta ja criada\n",
    "#logging.basicConfig(filename='Logs/webscrapy_teste.txt',\n",
    "                       #format= '%(asctime)s - %(levelname)s - %(name)s - %(message)s', \n",
    "                       # datefmt = '%Y-%m-%d %H:%M:%S',\n",
    "                       # level=logging.DEBUG)\n",
    "#logger = logging.getLogger('Gui')"
   ]
  },
  {
   "cell_type": "code",
   "execution_count": 4,
   "id": "f46eda34",
   "metadata": {},
   "outputs": [],
   "source": [
    "#logging.debug('teste com variavel')\n",
    "#logging.info('testando dessa')\n",
    "#logging.warning('testando vez')"
   ]
  },
  {
   "cell_type": "code",
   "execution_count": 4,
   "id": "10f3e52c",
   "metadata": {},
   "outputs": [],
   "source": [
    "logger.debug('testando 1')\n",
    "logger.info('testando 2')\n",
    "logger.warning('testando 3')\n",
    "logger.error('Not executed')"
   ]
  }
 ],
 "metadata": {
  "kernelspec": {
   "display_name": "Python 3 (ipykernel)",
   "language": "python",
   "name": "python3"
  },
  "language_info": {
   "codemirror_mode": {
    "name": "ipython",
    "version": 3
   },
   "file_extension": ".py",
   "mimetype": "text/x-python",
   "name": "python",
   "nbconvert_exporter": "python",
   "pygments_lexer": "ipython3",
   "version": "3.8.10"
  }
 },
 "nbformat": 4,
 "nbformat_minor": 5
}
