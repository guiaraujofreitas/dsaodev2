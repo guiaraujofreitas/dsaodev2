{
 "cells": [
  {
   "cell_type": "code",
   "execution_count": 1,
   "id": "455f8cae",
   "metadata": {},
   "outputs": [],
   "source": [
    "import os\n",
    "import logging\n",
    "\n",
    "\n",
    "path = '/home/guilherme/Documentos/repos/ds_ao_dev/projeto_webscrapy/scripts_python/Logs'\n",
    "\n",
    "\n",
    "#varaivel de escrita do log\n",
    "teste_log = logging.basicConfig(filename= path +'webscrapy_teste.txt',\n",
    "                                format= '%(asctime)s - %(levelname)s - %(name)s - %(message)s', \n",
    "                                datefmt = '%Y-%m-%d %H:%M:%S',\n",
    "                                level=logging.DEBUG)\n",
    "\n",
    "\n",
    "if not os.path.exists(path + 'Logs'):\n",
    "    os.makedirs('Logs')\n",
    "    \n",
    "    teste_log\n",
    "else:\n",
    "    teste_log\n",
    "logger = logging.getLogger('Hm_test')\n",
    "\n",
    "logger.debug('testando 1')\n",
    "logger.info('testando 2')\n",
    "logger.warning('testando 3')\n",
    "logger.error('Not executed')"
   ]
  },
  {
   "cell_type": "code",
   "execution_count": 2,
   "id": "d949b9cb",
   "metadata": {},
   "outputs": [],
   "source": []
  },
  {
   "cell_type": "code",
   "execution_count": 3,
   "id": "87bd1872",
   "metadata": {},
   "outputs": [],
   "source": [
    "\n"
   ]
  },
  {
   "cell_type": "code",
   "execution_count": 4,
   "id": "166954e1",
   "metadata": {},
   "outputs": [],
   "source": []
  },
  {
   "cell_type": "code",
   "execution_count": 5,
   "id": "380d2947",
   "metadata": {},
   "outputs": [],
   "source": []
  }
 ],
 "metadata": {
  "kernelspec": {
   "display_name": "Python 3 (ipykernel)",
   "language": "python",
   "name": "python3"
  },
  "language_info": {
   "codemirror_mode": {
    "name": "ipython",
    "version": 3
   },
   "file_extension": ".py",
   "mimetype": "text/x-python",
   "name": "python",
   "nbconvert_exporter": "python",
   "pygments_lexer": "ipython3",
   "version": "3.8.10"
  }
 },
 "nbformat": 4,
 "nbformat_minor": 5
}
