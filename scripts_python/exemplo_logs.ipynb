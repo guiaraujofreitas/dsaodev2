{
 "cells": [
  {
   "cell_type": "code",
   "execution_count": 1,
   "id": "efbc7900",
   "metadata": {},
   "outputs": [],
   "source": [
    "#import logging\n",
    "\n",
    "import logging\n",
    " \n"
   ]
  },
  {
   "cell_type": "code",
   "execution_count": 2,
   "id": "e97159d8",
   "metadata": {},
   "outputs": [],
   "source": [
    "#codigo para rodar os aviso do log no notebook\n",
    "logger = logging.getLogger()\n",
    "logger.setLevel(logging.DEBUG)\n",
    "#logging.debug(\"test\")"
   ]
  },
  {
   "cell_type": "code",
   "execution_count": 2,
   "id": "f46eda34",
   "metadata": {},
   "outputs": [],
   "source": [
    "logging.basicConfig(stream=sys.stdout)"
   ]
  },
  {
   "cell_type": "code",
   "execution_count": 2,
   "id": "7fcefd1b",
   "metadata": {},
   "outputs": [],
   "source": [
    "logger1 = logging.getLogger('logger1')"
   ]
  },
  {
   "cell_type": "code",
   "execution_count": 3,
   "id": "48a9f546",
   "metadata": {},
   "outputs": [
    {
     "name": "stderr",
     "output_type": "stream",
     "text": [
      "DEBUG:root:O valor desta variavel eh X e nao Y\n"
     ]
    }
   ],
   "source": [
    "logging.debug('O valor desta variavel eh X e nao Y')"
   ]
  },
  {
   "cell_type": "code",
   "execution_count": 8,
   "id": "35dd6d66",
   "metadata": {},
   "outputs": [
    {
     "name": "stderr",
     "output_type": "stream",
     "text": [
      "INFO:root:testando o info\n"
     ]
    }
   ],
   "source": [
    "logging.info('testando o info')"
   ]
  },
  {
   "cell_type": "code",
   "execution_count": 2,
   "id": "c6937981",
   "metadata": {},
   "outputs": [
    {
     "name": "stderr",
     "output_type": "stream",
     "text": [
      "WARNING:root:teste\n"
     ]
    }
   ],
   "source": [
    "logging.warning('teste')"
   ]
  },
  {
   "cell_type": "code",
   "execution_count": 4,
   "id": "ec6e6b08",
   "metadata": {},
   "outputs": [
    {
     "name": "stderr",
     "output_type": "stream",
     "text": [
      "INFO:root:I want this info in notebook\n"
     ]
    }
   ],
   "source": [
    "logging.info('I want this info in notebook')"
   ]
  },
  {
   "cell_type": "code",
   "execution_count": null,
   "id": "d40a350b",
   "metadata": {},
   "outputs": [],
   "source": []
  },
  {
   "cell_type": "code",
   "execution_count": null,
   "id": "efebec87",
   "metadata": {},
   "outputs": [],
   "source": []
  },
  {
   "cell_type": "code",
   "execution_count": 2,
   "id": "568d655a",
   "metadata": {},
   "outputs": [],
   "source": [
    "logger = logging.getLogger(__name__)\n",
    "logger.setLevel(logging.INFO)\n",
    "\n",
    "logger.info(\"hello\")\n"
   ]
  },
  {
   "cell_type": "code",
   "execution_count": 1,
   "id": "b16bd7c6",
   "metadata": {},
   "outputs": [],
   "source": [
    "#testando \n",
    "import logging\n",
    "logger = logging.getLogger('my_application')\n",
    "logger.setLevel(logging.DEBUG)\n",
    "\n"
   ]
  },
  {
   "cell_type": "code",
   "execution_count": 2,
   "id": "1b80c5af",
   "metadata": {},
   "outputs": [
    {
     "name": "stderr",
     "output_type": "stream",
     "text": [
      "BAR\n"
     ]
    }
   ],
   "source": [
    "logger2 = logging.getLogger(\"logger2\")\n",
    "logger2.warning(\"BAR\")  # Prints: WARNING:logger2:BAR"
   ]
  }
 ],
 "metadata": {
  "kernelspec": {
   "display_name": "Python 3 (ipykernel)",
   "language": "python",
   "name": "python3"
  },
  "language_info": {
   "codemirror_mode": {
    "name": "ipython",
    "version": 3
   },
   "file_extension": ".py",
   "mimetype": "text/x-python",
   "name": "python",
   "nbconvert_exporter": "python",
   "pygments_lexer": "ipython3",
   "version": "3.8.10"
  }
 },
 "nbformat": 4,
 "nbformat_minor": 5
}
