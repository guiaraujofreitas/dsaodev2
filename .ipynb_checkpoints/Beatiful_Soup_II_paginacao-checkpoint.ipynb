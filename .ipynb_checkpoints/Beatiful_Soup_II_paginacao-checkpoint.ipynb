{
 "cells": [
  {
   "cell_type": "code",
   "execution_count": 53,
   "id": "a65c4552",
   "metadata": {},
   "outputs": [],
   "source": [
    "import requests\n",
    "import pandas as pd\n",
    "import numpy as np\n",
    "import math\n",
    "from bs4 import BeautifulSoup\n",
    "from datetime import datetime"
   ]
  },
  {
   "cell_type": "code",
   "execution_count": 4,
   "id": "ae5f9d79",
   "metadata": {},
   "outputs": [],
   "source": [
    "url= 'https://www2.hm.com/en_us/men/products/jeans.html'\n",
    "\n",
    "headers = {'User-Agent':'Mozilla/5.0 (Macintosh; Intel Mac OS X 10_11_5) AppleWebKit/537.36 (KHTML, like Gecko) Chrome/50.0.2661.102 Safari/537.36 OPR/37.0.2178.54'}\n",
    "\n",
    "page = requests.get( url, headers=headers )"
   ]
  },
  {
   "cell_type": "code",
   "execution_count": 15,
   "id": "4038023f",
   "metadata": {},
   "outputs": [],
   "source": [
    "soup = BeautifulSoup(page.text, 'html.parser')\n",
    "       "
   ]
  },
  {
   "cell_type": "code",
   "execution_count": 40,
   "id": "c6f6fa9b",
   "metadata": {},
   "outputs": [],
   "source": [
    "#coletando o total de itens de todas as páginas\n",
    "total_item= soup.find_all('h2',class_='load-more-heading')[0].get('data-total')"
   ]
  },
  {
   "cell_type": "code",
   "execution_count": 56,
   "id": "ccff4da7",
   "metadata": {},
   "outputs": [
    {
     "data": {
      "text/plain": [
       "3"
      ]
     },
     "execution_count": 56,
     "metadata": {},
     "output_type": "execute_result"
    }
   ],
   "source": [
    "#calculando o número de paginas que preciso calcular para pesquisar pelas vitrines da loja\n",
    "page_number =math.ceil(int(total_item)/36)\n",
    "\n",
    "page_number"
   ]
  },
  {
   "cell_type": "code",
   "execution_count": 59,
   "id": "56dc5b45",
   "metadata": {},
   "outputs": [
    {
     "data": {
      "text/plain": [
       "'https://www2.hm.com/en_us/men/products/jeans.html?page-size=108'"
      ]
     },
     "execution_count": 59,
     "metadata": {},
     "output_type": "execute_result"
    }
   ],
   "source": [
    "#montando url para pegar todos os produtos da página\n",
    "url2= url +'?page-size=' + str(int(page_number *36))\n",
    "url2"
   ]
  }
 ],
 "metadata": {
  "kernelspec": {
   "display_name": "Python 3 (ipykernel)",
   "language": "python",
   "name": "python3"
  },
  "language_info": {
   "codemirror_mode": {
    "name": "ipython",
    "version": 3
   },
   "file_extension": ".py",
   "mimetype": "text/x-python",
   "name": "python",
   "nbconvert_exporter": "python",
   "pygments_lexer": "ipython3",
   "version": "3.8.10"
  }
 },
 "nbformat": 4,
 "nbformat_minor": 5
}
