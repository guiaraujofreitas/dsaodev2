{
 "cells": [
  {
   "cell_type": "code",
   "execution_count": 1,
   "id": "f4151c75",
   "metadata": {},
   "outputs": [],
   "source": [
    "import requests\n",
    "import pandas as pd\n",
    "import numpy as np\n",
    "from bs4 import BeautifulSoup"
   ]
  },
  {
   "cell_type": "code",
   "execution_count": 2,
   "id": "4b6ba8cd",
   "metadata": {},
   "outputs": [
    {
     "ename": "NameError",
     "evalue": "name 'data' is not defined",
     "output_type": "error",
     "traceback": [
      "\u001b[0;31m---------------------------------------------------------------------------\u001b[0m",
      "\u001b[0;31mNameError\u001b[0m                                 Traceback (most recent call last)",
      "Input \u001b[0;32mIn [2]\u001b[0m, in \u001b[0;36m<cell line: 1>\u001b[0;34m()\u001b[0m\n\u001b[0;32m----> 1\u001b[0m \u001b[38;5;28;01mfor\u001b[39;00m i \u001b[38;5;129;01min\u001b[39;00m \u001b[38;5;28mrange\u001b[39m(\u001b[38;5;28mlen\u001b[39m(\u001b[43mdata\u001b[49m)):\n\u001b[1;32m      2\u001b[0m     \u001b[38;5;66;03m# API Requests\u001b[39;00m\n\u001b[1;32m      3\u001b[0m     url \u001b[38;5;241m=\u001b[39m \u001b[38;5;124m'\u001b[39m\u001b[38;5;124mhttps://www2.hm.com/en_us/productpage.\u001b[39m\u001b[38;5;124m'\u001b[39m \u001b[38;5;241m+\u001b[39m data\u001b[38;5;241m.\u001b[39mloc[i, \u001b[38;5;124m'\u001b[39m\u001b[38;5;124mproduct_id\u001b[39m\u001b[38;5;124m'\u001b[39m] \u001b[38;5;241m+\u001b[39m \u001b[38;5;124m'\u001b[39m\u001b[38;5;124m.html\u001b[39m\u001b[38;5;124m'\u001b[39m\n\u001b[1;32m      5\u001b[0m     page \u001b[38;5;241m=\u001b[39m requests\u001b[38;5;241m.\u001b[39mget( url, headers\u001b[38;5;241m=\u001b[39mheaders )\n",
      "\u001b[0;31mNameError\u001b[0m: name 'data' is not defined"
     ]
    }
   ],
   "source": [
    "for i in range(len(data)):\n",
    "    # API Requests\n",
    "    url = 'https://www2.hm.com/en_us/productpage.' + data.loc[i, 'product_id'] + '.html'\n",
    "\n",
    "    page = requests.get( url, headers=headers )\n",
    "\n",
    "    # Beautiful Object\n",
    "    soup = BeautifulSoup( page.text, 'html.parser' )\n",
    "\n",
    "    # =============================== Color Name ===============================\n",
    "    list_item = soup.find_all( 'a', role=\"radio\" )\n",
    "\n",
    "    color_name = [item.get( 'data-color' ) for item in list_item]\n",
    "    product_id = [item.get( 'data-articlecode' ) for item in list_item]\n",
    "\n",
    "    df_color = pd.DataFrame( [product_id, color_name] ).T\n",
    "    df_color.columns = ['product_id', 'color_name']\n",
    "\n",
    "    # Generate Style ID + Color ID\n",
    "    df_color['style_id'] = df_color['product_id'].apply( lambda x: x[:-3] )\n",
    "    df_color['color_id'] = df_color['product_id'].apply( lambda x: x[-3:] )\n",
    "\n",
    "    # =============================== Composition ===============================\n",
    "\n",
    "\n",
    "    product_composition_list = soup.find_all( 'div', class_='details-attributes-list-item' )\n",
    "    product_composition = [list(filter(None, item.get_text().split( '\\n' ) ) ) for item in product_composition_list]\n",
    "\n",
    "    #Creating Dataframe\n",
    "    \n",
    "    if product_composition != []:\n",
    "        df_composition1 = pd.DataFrame( product_composition ).T\n",
    "        df_composition1.columns = df_composition1.iloc[0, :]\n",
    "        df_composition = df_composition1[['Fit', 'Composition', 'Art. No.']]\n",
    "        df_composition = df_composition[df_composition['Composition'].notnull()]\n",
    "\n",
    "        #Deleting first row and pasting Fit and Art. No.\n",
    "        df_composition = df_composition.iloc[1:].fillna( method='ffill' )\n",
    "\n",
    "        # Generate Style ID + Color ID\n",
    "        df_composition['style_id'] = df_composition['Art. No.'].apply( lambda x: x[:-3] )\n",
    "        df_composition['color_id'] = df_composition['Art. No.'].apply( lambda x: x[-3:] )\n",
    "\n",
    "        # Merge Color + Composition\n",
    "        data_sku = pd.merge( df_color, df_composition[['style_id', 'Fit', 'Composition']], how='left', on='style_id' )\n",
    "\n",
    "        # All details products\n",
    "        df_final = pd.concat( [df_final, data_sku], axis=0 )\n",
    "    else:\n",
    "        None"
   ]
  },
  {
   "cell_type": "code",
   "execution_count": null,
   "id": "252a5467",
   "metadata": {},
   "outputs": [],
   "source": []
  }
 ],
 "metadata": {
  "kernelspec": {
   "display_name": "Python 3 (ipykernel)",
   "language": "python",
   "name": "python3"
  },
  "language_info": {
   "codemirror_mode": {
    "name": "ipython",
    "version": 3
   },
   "file_extension": ".py",
   "mimetype": "text/x-python",
   "name": "python",
   "nbconvert_exporter": "python",
   "pygments_lexer": "ipython3",
   "version": "3.8.10"
  }
 },
 "nbformat": 4,
 "nbformat_minor": 5
}
