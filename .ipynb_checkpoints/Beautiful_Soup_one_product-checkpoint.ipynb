{
 "cells": [
  {
   "cell_type": "code",
   "execution_count": 1,
   "id": "8e031866",
   "metadata": {},
   "outputs": [],
   "source": [
    "import requests\n",
    "import pandas as pd\n",
    "import numpy as np\n",
    "import math\n",
    "from bs4 import BeautifulSoup\n",
    "from datetime import datetime"
   ]
  },
  {
   "cell_type": "code",
   "execution_count": 2,
   "id": "5da96c05",
   "metadata": {},
   "outputs": [],
   "source": [
    "url= 'https://www2.hm.com/en_us/productpage.0985159005.html'\n",
    "\n",
    "headers = {'User-Agent':'Mozilla/5.0 (Macintosh; Intel Mac OS X 10_11_5) AppleWebKit/537.36 (KHTML, like Gecko) Chrome/50.0.2661.102 Safari/537.36 OPR/37.0.2178.54'}\n",
    "\n",
    "page = requests.get( url, headers=headers )"
   ]
  },
  {
   "cell_type": "code",
   "execution_count": 3,
   "id": "09f67ba1",
   "metadata": {},
   "outputs": [],
   "source": [
    "# Just One Products\n",
    "\n",
    "soup= BeautifulSoup(page.text,'html.parser')\n"
   ]
  },
  {
   "cell_type": "code",
   "execution_count": 4,
   "id": "924d5321",
   "metadata": {},
   "outputs": [],
   "source": [
    "\n",
    "\n",
    "products_list= soup.find_all('a',class_='filter-option miniature')\n",
    "\n",
    "#soup.find_all('a',class_='filter-option miniature active')"
   ]
  },
  {
   "cell_type": "code",
   "execution_count": 5,
   "id": "8ec33735",
   "metadata": {},
   "outputs": [],
   "source": [
    "#product id\n",
    "products_id = [p.get('data-articlecode') for p in products_list]\n",
    "\n",
    "#color name\n",
    "color_name = [p.get('data-color') for p in products_list]"
   ]
  },
  {
   "cell_type": "code",
   "execution_count": 167,
   "id": "53ecc8da",
   "metadata": {},
   "outputs": [],
   "source": [
    "#create data frame\n",
    "\n",
    "df_color = pd.DataFrame([products_id,color_name]).T\n",
    "\n",
    "#rename the columns of DF\n",
    "df_color.columns= ['product_id','color_name']\n",
    "\n",
    "#create new colum styly_id\n",
    "df_color['stlye_id'] = df_color['product_id'].apply(lambda x: x[:-3])\n",
    "\n",
    "#create new colum color_id\n",
    "df_color['color_id'] = df_color['product_id'].apply(lambda x: x[-3:])\n"
   ]
  },
  {
   "cell_type": "code",
   "execution_count": 7,
   "id": "7c0c2286",
   "metadata": {},
   "outputs": [],
   "source": [
    "#composition"
   ]
  },
  {
   "cell_type": "code",
   "execution_count": 158,
   "id": "d1c5cd1a",
   "metadata": {},
   "outputs": [],
   "source": [
    "composition_list= soup.find_all('div', class_ = 'details-attributes-list-item')\n",
    "\n",
    "product_composition = [list(filter (None, p.get_text().split('\\n') ) ) for p in composition_list]\n",
    "#[list(filter (None, p.get_text().split('\\n') ) ) for p in composition_list]\n"
   ]
  },
  {
   "cell_type": "code",
   "execution_count": 168,
   "id": "d827b9ff",
   "metadata": {},
   "outputs": [],
   "source": [
    "#created the dataframe aux\n",
    "df_aux= pd.DataFrame(product_composition).T\n",
    "#renome the columns\n",
    "df_aux.columns= df_aux.iloc[0]\n",
    "\n",
    "#select columns \n",
    "df_aux= df_aux[['Fit','Composition','Art. No.']]\n",
    "\n",
    "#delete the first row and delete the columns that is the empty\n",
    "df_aux= df_aux.iloc[1:3]\n",
    "\n",
    "#copying the code and the model to row the below\n",
    "df_aux = df_aux.fillna(method='ffill')\n",
    "\n",
    "#rename the data frame to a new variable\n",
    "df_composition = df_aux.copy(True)\n",
    "\n",
    "#create new colum styly_id\n",
    "df_composition['stlye_id'] =df_composition['Art. No.'].apply(lambda x: x[:-3])\n",
    "\n",
    "#create new colum color_id\n",
    "df_composition['color_id'] = df_composition['Art. No.'].apply(lambda x: x[-3:])\n",
    "\n",
    "#merge dataframe of color and composition \n",
    "df_sku= pd.merge(df_color,df_composition[['stlye_id','Fit','Composition']], how='left', on ='stlye_id')"
   ]
  },
  {
   "cell_type": "code",
   "execution_count": 178,
   "id": "5d26a7b4",
   "metadata": {},
   "outputs": [],
   "source": []
  },
  {
   "cell_type": "code",
   "execution_count": 138,
   "id": "492a3d87",
   "metadata": {},
   "outputs": [],
   "source": []
  },
  {
   "cell_type": "code",
   "execution_count": 169,
   "id": "e23f2dfe",
   "metadata": {},
   "outputs": [
    {
     "data": {
      "text/html": [
       "<div>\n",
       "<style scoped>\n",
       "    .dataframe tbody tr th:only-of-type {\n",
       "        vertical-align: middle;\n",
       "    }\n",
       "\n",
       "    .dataframe tbody tr th {\n",
       "        vertical-align: top;\n",
       "    }\n",
       "\n",
       "    .dataframe thead th {\n",
       "        text-align: right;\n",
       "    }\n",
       "</style>\n",
       "<table border=\"1\" class=\"dataframe\">\n",
       "  <thead>\n",
       "    <tr style=\"text-align: right;\">\n",
       "      <th></th>\n",
       "      <th>Fit</th>\n",
       "      <th>Composition</th>\n",
       "      <th>Art. No.</th>\n",
       "      <th>stlye_id</th>\n",
       "      <th>color_id</th>\n",
       "    </tr>\n",
       "  </thead>\n",
       "  <tbody>\n",
       "    <tr>\n",
       "      <th>1</th>\n",
       "      <td>Skinny fit</td>\n",
       "      <td>Shell: Cotton 99%, Spandex 1%</td>\n",
       "      <td>0985159005</td>\n",
       "      <td>0985159</td>\n",
       "      <td>005</td>\n",
       "    </tr>\n",
       "    <tr>\n",
       "      <th>2</th>\n",
       "      <td>Skinny fit</td>\n",
       "      <td>Pocket lining: Cotton 100%</td>\n",
       "      <td>0985159005</td>\n",
       "      <td>0985159</td>\n",
       "      <td>005</td>\n",
       "    </tr>\n",
       "  </tbody>\n",
       "</table>\n",
       "</div>"
      ],
      "text/plain": [
       "0         Fit                    Composition    Art. No. stlye_id color_id\n",
       "1  Skinny fit  Shell: Cotton 99%, Spandex 1%  0985159005  0985159      005\n",
       "2  Skinny fit     Pocket lining: Cotton 100%  0985159005  0985159      005"
      ]
     },
     "execution_count": 169,
     "metadata": {},
     "output_type": "execute_result"
    }
   ],
   "source": [
    "df_composition"
   ]
  },
  {
   "cell_type": "code",
   "execution_count": 170,
   "id": "fa20bace",
   "metadata": {},
   "outputs": [
    {
     "data": {
      "text/html": [
       "<div>\n",
       "<style scoped>\n",
       "    .dataframe tbody tr th:only-of-type {\n",
       "        vertical-align: middle;\n",
       "    }\n",
       "\n",
       "    .dataframe tbody tr th {\n",
       "        vertical-align: top;\n",
       "    }\n",
       "\n",
       "    .dataframe thead th {\n",
       "        text-align: right;\n",
       "    }\n",
       "</style>\n",
       "<table border=\"1\" class=\"dataframe\">\n",
       "  <thead>\n",
       "    <tr style=\"text-align: right;\">\n",
       "      <th></th>\n",
       "      <th>product_id</th>\n",
       "      <th>color_name</th>\n",
       "      <th>stlye_id</th>\n",
       "      <th>color_id</th>\n",
       "    </tr>\n",
       "  </thead>\n",
       "  <tbody>\n",
       "    <tr>\n",
       "      <th>0</th>\n",
       "      <td>0985159001</td>\n",
       "      <td>Black</td>\n",
       "      <td>0985159</td>\n",
       "      <td>001</td>\n",
       "    </tr>\n",
       "    <tr>\n",
       "      <th>1</th>\n",
       "      <td>0985159002</td>\n",
       "      <td>Denim blue</td>\n",
       "      <td>0985159</td>\n",
       "      <td>002</td>\n",
       "    </tr>\n",
       "    <tr>\n",
       "      <th>2</th>\n",
       "      <td>0985159003</td>\n",
       "      <td>Dark gray</td>\n",
       "      <td>0985159</td>\n",
       "      <td>003</td>\n",
       "    </tr>\n",
       "    <tr>\n",
       "      <th>3</th>\n",
       "      <td>0985159004</td>\n",
       "      <td>Light denim blue</td>\n",
       "      <td>0985159</td>\n",
       "      <td>004</td>\n",
       "    </tr>\n",
       "    <tr>\n",
       "      <th>4</th>\n",
       "      <td>0985159006</td>\n",
       "      <td>Dark denim blue</td>\n",
       "      <td>0985159</td>\n",
       "      <td>006</td>\n",
       "    </tr>\n",
       "    <tr>\n",
       "      <th>5</th>\n",
       "      <td>0985159007</td>\n",
       "      <td>Denim blue</td>\n",
       "      <td>0985159</td>\n",
       "      <td>007</td>\n",
       "    </tr>\n",
       "    <tr>\n",
       "      <th>6</th>\n",
       "      <td>0985159008</td>\n",
       "      <td>Dark gray</td>\n",
       "      <td>0985159</td>\n",
       "      <td>008</td>\n",
       "    </tr>\n",
       "  </tbody>\n",
       "</table>\n",
       "</div>"
      ],
      "text/plain": [
       "   product_id        color_name stlye_id color_id\n",
       "0  0985159001             Black  0985159      001\n",
       "1  0985159002        Denim blue  0985159      002\n",
       "2  0985159003         Dark gray  0985159      003\n",
       "3  0985159004  Light denim blue  0985159      004\n",
       "4  0985159006   Dark denim blue  0985159      006\n",
       "5  0985159007        Denim blue  0985159      007\n",
       "6  0985159008         Dark gray  0985159      008"
      ]
     },
     "execution_count": 170,
     "metadata": {},
     "output_type": "execute_result"
    }
   ],
   "source": [
    "df_color"
   ]
  },
  {
   "cell_type": "code",
   "execution_count": null,
   "id": "9a9e7386",
   "metadata": {},
   "outputs": [],
   "source": []
  }
 ],
 "metadata": {
  "kernelspec": {
   "display_name": "Python 3 (ipykernel)",
   "language": "python",
   "name": "python3"
  },
  "language_info": {
   "codemirror_mode": {
    "name": "ipython",
    "version": 3
   },
   "file_extension": ".py",
   "mimetype": "text/x-python",
   "name": "python",
   "nbconvert_exporter": "python",
   "pygments_lexer": "ipython3",
   "version": "3.8.10"
  }
 },
 "nbformat": 4,
 "nbformat_minor": 5
}
